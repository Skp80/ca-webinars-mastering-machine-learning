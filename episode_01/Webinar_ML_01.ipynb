{
  "nbformat": 4,
  "nbformat_minor": 0,
  "metadata": {
    "colab": {
      "name": "Webinar-ML-01.ipynb",
      "provenance": [],
      "collapsed_sections": []
    },
    "kernelspec": {
      "name": "python3",
      "display_name": "Python 3"
    },
    "language_info": {
      "name": "python"
    }
  },
  "cells": [
    {
      "cell_type": "code",
      "metadata": {
        "id": "___eQ_WGEdpr"
      },
      "source": [
        "import numpy as np\n",
        "import pandas as pd\n",
        "data_fake = pd.DataFrame(\n",
        "    {\n",
        "        'items':[np.nan,2,4,8,10],\n",
        "        'age':[23,np.nan,28,32,40],\n",
        "        'cost':[9500, 11000, np.nan, np.nan, 14760]\n",
        "     },\n",
        "     )"
      ],
      "execution_count": 1,
      "outputs": []
    },
    {
      "cell_type": "code",
      "metadata": {
        "colab": {
          "base_uri": "https://localhost:8080/",
          "height": 204
        },
        "id": "FMn4xlJ-S2wm",
        "outputId": "2cbffafa-79ec-4fe5-bedb-67a00d803d93"
      },
      "source": [
        "data_fake.head()"
      ],
      "execution_count": 2,
      "outputs": [
        {
          "output_type": "execute_result",
          "data": {
            "text/html": [
              "<div>\n",
              "<style scoped>\n",
              "    .dataframe tbody tr th:only-of-type {\n",
              "        vertical-align: middle;\n",
              "    }\n",
              "\n",
              "    .dataframe tbody tr th {\n",
              "        vertical-align: top;\n",
              "    }\n",
              "\n",
              "    .dataframe thead th {\n",
              "        text-align: right;\n",
              "    }\n",
              "</style>\n",
              "<table border=\"1\" class=\"dataframe\">\n",
              "  <thead>\n",
              "    <tr style=\"text-align: right;\">\n",
              "      <th></th>\n",
              "      <th>items</th>\n",
              "      <th>age</th>\n",
              "      <th>cost</th>\n",
              "    </tr>\n",
              "  </thead>\n",
              "  <tbody>\n",
              "    <tr>\n",
              "      <th>0</th>\n",
              "      <td>NaN</td>\n",
              "      <td>23.0</td>\n",
              "      <td>9500.0</td>\n",
              "    </tr>\n",
              "    <tr>\n",
              "      <th>1</th>\n",
              "      <td>2.0</td>\n",
              "      <td>NaN</td>\n",
              "      <td>11000.0</td>\n",
              "    </tr>\n",
              "    <tr>\n",
              "      <th>2</th>\n",
              "      <td>4.0</td>\n",
              "      <td>28.0</td>\n",
              "      <td>NaN</td>\n",
              "    </tr>\n",
              "    <tr>\n",
              "      <th>3</th>\n",
              "      <td>8.0</td>\n",
              "      <td>32.0</td>\n",
              "      <td>NaN</td>\n",
              "    </tr>\n",
              "    <tr>\n",
              "      <th>4</th>\n",
              "      <td>10.0</td>\n",
              "      <td>40.0</td>\n",
              "      <td>14760.0</td>\n",
              "    </tr>\n",
              "  </tbody>\n",
              "</table>\n",
              "</div>"
            ],
            "text/plain": [
              "   items   age     cost\n",
              "0    NaN  23.0   9500.0\n",
              "1    2.0   NaN  11000.0\n",
              "2    4.0  28.0      NaN\n",
              "3    8.0  32.0      NaN\n",
              "4   10.0  40.0  14760.0"
            ]
          },
          "metadata": {},
          "execution_count": 2
        }
      ]
    },
    {
      "cell_type": "code",
      "metadata": {
        "id": "Sb72D0rXTDMo"
      },
      "source": [
        "from sklearn.impute import SimpleImputer\n",
        "imp_median = SimpleImputer(missing_values=np.nan, strategy='median')"
      ],
      "execution_count": 3,
      "outputs": []
    },
    {
      "cell_type": "code",
      "metadata": {
        "colab": {
          "base_uri": "https://localhost:8080/"
        },
        "id": "MbG3-nYiUvOO",
        "outputId": "30104f53-4ca6-4bd1-b7ae-31146b0dcd8f"
      },
      "source": [
        "imp_median.fit_transform(data_fake)"
      ],
      "execution_count": 6,
      "outputs": [
        {
          "output_type": "execute_result",
          "data": {
            "text/plain": [
              "array([[6.000e+00, 2.300e+01, 9.500e+03],\n",
              "       [2.000e+00, 3.000e+01, 1.100e+04],\n",
              "       [4.000e+00, 2.800e+01, 1.100e+04],\n",
              "       [8.000e+00, 3.200e+01, 1.100e+04],\n",
              "       [1.000e+01, 4.000e+01, 1.476e+04]])"
            ]
          },
          "metadata": {},
          "execution_count": 6
        }
      ]
    },
    {
      "cell_type": "code",
      "metadata": {
        "colab": {
          "base_uri": "https://localhost:8080/"
        },
        "id": "a-UQEilyU6Pc",
        "outputId": "26c04d42-9045-485f-e2e4-9c1338e5a3d9"
      },
      "source": [
        "imp_mean = SimpleImputer(missing_values=np.nan, strategy='mean')\n",
        "imp_mean.fit_transform(data_fake)"
      ],
      "execution_count": 7,
      "outputs": [
        {
          "output_type": "execute_result",
          "data": {
            "text/plain": [
              "array([[6.00000000e+00, 2.30000000e+01, 9.50000000e+03],\n",
              "       [2.00000000e+00, 3.07500000e+01, 1.10000000e+04],\n",
              "       [4.00000000e+00, 2.80000000e+01, 1.17533333e+04],\n",
              "       [8.00000000e+00, 3.20000000e+01, 1.17533333e+04],\n",
              "       [1.00000000e+01, 4.00000000e+01, 1.47600000e+04]])"
            ]
          },
          "metadata": {},
          "execution_count": 7
        }
      ]
    },
    {
      "cell_type": "code",
      "metadata": {
        "id": "I3zR8E-GVo9B"
      },
      "source": [
        "imp_median_indicator = SimpleImputer(missing_values=np.nan, strategy='median', add_indicator=True)"
      ],
      "execution_count": 8,
      "outputs": []
    },
    {
      "cell_type": "code",
      "metadata": {
        "colab": {
          "base_uri": "https://localhost:8080/"
        },
        "id": "hOSzn7RvWW1N",
        "outputId": "1056f596-77fa-433f-b628-9d3e6976a3ce"
      },
      "source": [
        "imp_median_indicator.fit_transform(data_fake)"
      ],
      "execution_count": 9,
      "outputs": [
        {
          "output_type": "execute_result",
          "data": {
            "text/plain": [
              "array([[6.000e+00, 2.300e+01, 9.500e+03, 1.000e+00, 0.000e+00, 0.000e+00],\n",
              "       [2.000e+00, 3.000e+01, 1.100e+04, 0.000e+00, 1.000e+00, 0.000e+00],\n",
              "       [4.000e+00, 2.800e+01, 1.100e+04, 0.000e+00, 0.000e+00, 1.000e+00],\n",
              "       [8.000e+00, 3.200e+01, 1.100e+04, 0.000e+00, 0.000e+00, 1.000e+00],\n",
              "       [1.000e+01, 4.000e+01, 1.476e+04, 0.000e+00, 0.000e+00, 0.000e+00]])"
            ]
          },
          "metadata": {},
          "execution_count": 9
        }
      ]
    },
    {
      "cell_type": "code",
      "metadata": {
        "id": "SguKM6WkWavj"
      },
      "source": [
        "data_fake = pd.DataFrame(\n",
        "    {\n",
        "        'items':[np.nan,2,4,8,10, 9],\n",
        "        'age':[23,np.nan,28,32,40, 35],\n",
        "        'cost':[9500, 11000, 12000, np.nan, 14760, 13500]\n",
        "     },\n",
        "     )"
      ],
      "execution_count": 10,
      "outputs": []
    },
    {
      "cell_type": "code",
      "metadata": {
        "colab": {
          "base_uri": "https://localhost:8080/",
          "height": 235
        },
        "id": "uBF6ngBfa-qm",
        "outputId": "552bf848-ed28-4ee6-bc15-c2e163cf597c"
      },
      "source": [
        "data_fake"
      ],
      "execution_count": 19,
      "outputs": [
        {
          "output_type": "execute_result",
          "data": {
            "text/html": [
              "<div>\n",
              "<style scoped>\n",
              "    .dataframe tbody tr th:only-of-type {\n",
              "        vertical-align: middle;\n",
              "    }\n",
              "\n",
              "    .dataframe tbody tr th {\n",
              "        vertical-align: top;\n",
              "    }\n",
              "\n",
              "    .dataframe thead th {\n",
              "        text-align: right;\n",
              "    }\n",
              "</style>\n",
              "<table border=\"1\" class=\"dataframe\">\n",
              "  <thead>\n",
              "    <tr style=\"text-align: right;\">\n",
              "      <th></th>\n",
              "      <th>items</th>\n",
              "      <th>age</th>\n",
              "      <th>cost</th>\n",
              "    </tr>\n",
              "  </thead>\n",
              "  <tbody>\n",
              "    <tr>\n",
              "      <th>0</th>\n",
              "      <td>NaN</td>\n",
              "      <td>23.0</td>\n",
              "      <td>9500.0</td>\n",
              "    </tr>\n",
              "    <tr>\n",
              "      <th>1</th>\n",
              "      <td>2.0</td>\n",
              "      <td>NaN</td>\n",
              "      <td>11000.0</td>\n",
              "    </tr>\n",
              "    <tr>\n",
              "      <th>2</th>\n",
              "      <td>4.0</td>\n",
              "      <td>28.0</td>\n",
              "      <td>12000.0</td>\n",
              "    </tr>\n",
              "    <tr>\n",
              "      <th>3</th>\n",
              "      <td>8.0</td>\n",
              "      <td>32.0</td>\n",
              "      <td>NaN</td>\n",
              "    </tr>\n",
              "    <tr>\n",
              "      <th>4</th>\n",
              "      <td>10.0</td>\n",
              "      <td>40.0</td>\n",
              "      <td>14760.0</td>\n",
              "    </tr>\n",
              "    <tr>\n",
              "      <th>5</th>\n",
              "      <td>9.0</td>\n",
              "      <td>35.0</td>\n",
              "      <td>13500.0</td>\n",
              "    </tr>\n",
              "  </tbody>\n",
              "</table>\n",
              "</div>"
            ],
            "text/plain": [
              "   items   age     cost\n",
              "0    NaN  23.0   9500.0\n",
              "1    2.0   NaN  11000.0\n",
              "2    4.0  28.0  12000.0\n",
              "3    8.0  32.0      NaN\n",
              "4   10.0  40.0  14760.0\n",
              "5    9.0  35.0  13500.0"
            ]
          },
          "metadata": {},
          "execution_count": 19
        }
      ]
    },
    {
      "cell_type": "code",
      "metadata": {
        "id": "E0b_UNMyYzl0"
      },
      "source": [
        "from sklearn.experimental import enable_iterative_imputer\n",
        "from sklearn.impute import IterativeImputer"
      ],
      "execution_count": 12,
      "outputs": []
    },
    {
      "cell_type": "code",
      "metadata": {
        "colab": {
          "base_uri": "https://localhost:8080/"
        },
        "id": "d78SlvpcZIWI",
        "outputId": "94381c0b-18cf-41b5-e03b-00f8ea3079c3"
      },
      "source": [
        "ii = IterativeImputer()\n",
        "ii.fit_transform(data_fake)"
      ],
      "execution_count": 13,
      "outputs": [
        {
          "output_type": "execute_result",
          "data": {
            "text/plain": [
              "array([[-1.05875615e+00,  2.30000000e+01,  9.50000000e+03],\n",
              "       [ 2.00000000e+00,  2.66381993e+01,  1.10000000e+04],\n",
              "       [ 4.00000000e+00,  2.80000000e+01,  1.20000000e+04],\n",
              "       [ 8.00000000e+00,  3.20000000e+01,  1.30629587e+04],\n",
              "       [ 1.00000000e+01,  4.00000000e+01,  1.47600000e+04],\n",
              "       [ 9.00000000e+00,  3.50000000e+01,  1.35000000e+04]])"
            ]
          },
          "metadata": {},
          "execution_count": 13
        }
      ]
    },
    {
      "cell_type": "code",
      "metadata": {
        "colab": {
          "base_uri": "https://localhost:8080/"
        },
        "id": "-zYHd9AKZS2T",
        "outputId": "928acf49-aec6-488f-9a3f-994d44a0965f"
      },
      "source": [
        "from sklearn.impute import KNNImputer\n",
        "knn_imp = KNNImputer()\n",
        "knn_imp.fit_transform(data_fake)"
      ],
      "execution_count": 17,
      "outputs": [
        {
          "output_type": "execute_result",
          "data": {
            "text/plain": [
              "array([[6.6000e+00, 2.3000e+01, 9.5000e+03],\n",
              "       [2.0000e+00, 3.1600e+01, 1.1000e+04],\n",
              "       [4.0000e+00, 2.8000e+01, 1.2000e+04],\n",
              "       [8.0000e+00, 3.2000e+01, 1.2152e+04],\n",
              "       [1.0000e+01, 4.0000e+01, 1.4760e+04],\n",
              "       [9.0000e+00, 3.5000e+01, 1.3500e+04]])"
            ]
          },
          "metadata": {},
          "execution_count": 17
        }
      ]
    },
    {
      "cell_type": "code",
      "metadata": {
        "colab": {
          "base_uri": "https://localhost:8080/"
        },
        "id": "ETw1NP0WZ7hz",
        "outputId": "5db990e4-9653-4c31-d234-89b1e6cb3d41"
      },
      "source": [
        "from sklearn.impute import KNNImputer\n",
        "knn_imp = KNNImputer(n_neighbors=2)\n",
        "knn_imp.fit_transform(data_fake)"
      ],
      "execution_count": 18,
      "outputs": [
        {
          "output_type": "execute_result",
          "data": {
            "text/plain": [
              "array([[5.000e+00, 2.300e+01, 9.500e+03],\n",
              "       [2.000e+00, 3.000e+01, 1.100e+04],\n",
              "       [4.000e+00, 2.800e+01, 1.200e+04],\n",
              "       [8.000e+00, 3.200e+01, 1.275e+04],\n",
              "       [1.000e+01, 4.000e+01, 1.476e+04],\n",
              "       [9.000e+00, 3.500e+01, 1.350e+04]])"
            ]
          },
          "metadata": {},
          "execution_count": 18
        }
      ]
    },
    {
      "cell_type": "markdown",
      "metadata": {
        "id": "CIB2G27gWkSh"
      },
      "source": [
        "**End Webinar**"
      ]
    }
  ]
}