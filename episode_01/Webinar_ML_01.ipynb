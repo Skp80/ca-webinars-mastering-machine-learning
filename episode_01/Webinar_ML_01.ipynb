{
  "nbformat": 4,
  "nbformat_minor": 0,
  "metadata": {
    "colab": {
      "name": "Webinar-ML-01.ipynb",
      "provenance": [],
      "collapsed_sections": []
    },
    "kernelspec": {
      "name": "python3",
      "display_name": "Python 3"
    },
    "language_info": {
      "name": "python"
    }
  },
  "cells": [
    {
      "cell_type": "code",
      "metadata": {
        "id": "___eQ_WGEdpr"
      },
      "source": [
        "import numpy as np\n",
        "import pandas as pd\n",
        "data_fake = pd.DataFrame(\n",
        "    {\n",
        "        'items':[np.nan,2,4,8,10],\n",
        "        'age':[23,np.nan,28,32,40],\n",
        "        'cost':[9500, 11000, np.nan, np.nan, 14760]\n",
        "     },\n",
        "     )"
      ],
      "execution_count": null,
      "outputs": []
    }
  ]
}